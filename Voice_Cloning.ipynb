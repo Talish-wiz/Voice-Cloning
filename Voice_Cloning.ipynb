{
  "nbformat": 4,
  "nbformat_minor": 0,
  "metadata": {
    "colab": {
      "name": "Voice_Cloning.ipynb",
      "provenance": [],
      "collapsed_sections": [],
      "authorship_tag": "ABX9TyOfvL8MkabaFDkFHOVV3L4J",
      "include_colab_link": true
    },
    "kernelspec": {
      "name": "python3",
      "display_name": "Python 3"
    },
    "accelerator": "GPU"
  },
  "cells": [
    {
      "cell_type": "markdown",
      "metadata": {
        "id": "view-in-github",
        "colab_type": "text"
      },
      "source": [
        "<a href=\"https://colab.research.google.com/github/Talish-wiz/Voice-Cloning/blob/master/Voice_Cloning.ipynb\" target=\"_parent\"><img src=\"https://colab.research.google.com/assets/colab-badge.svg\" alt=\"Open In Colab\"/></a>"
      ]
    },
    {
      "cell_type": "markdown",
      "metadata": {
        "id": "XJ6nUjnFFaQC",
        "colab_type": "text"
      },
      "source": [
        "#Voice Cloning using Google Colab and Tensorflow\n",
        "\n",
        "This is a project that started as a complex thesis (by **CorentinJ**) with a georgeous ui for pattern voice matching using Googles Tensorflow.\n",
        "\n",
        "I forked his project and build a generative approach of voice conversion.\n",
        "You only need to upload a 10 or 15 second speech recording to clone it.\n",
        "You also need to give a sample text or sample voice which you want to clone.\n",
        "\n",
        "As you proceed further process will be clear to you.\n",
        "\n",
        "I have made edits to his orginal codebase, but if wanted to see that project it is located here:\n",
        "\n",
        "https://github.com/CorentinJ/Real-Time-Voice-Cloning\n",
        "\n",
        "NOTE: My edits were mainly related to getting the code running fully on Google Colab.\n",
        "\n",
        "#### Setup: \n",
        "Make sure your GPU is enabled as the runtime in Colab (Runtime -> Change Runtime Type -> Hardware Accelerator -> GPU)"
      ]
    },
    {
      "cell_type": "markdown",
      "metadata": {
        "id": "PKBfZL67IaFk",
        "colab_type": "text"
      },
      "source": [
        "**Summary**: In the following 10 step process you will install the audio libraries, download the repo, install the requirments for the repo, download the pretrained voice model, upload a sample WAV file of your voice, input the new text or voice in WAV file, apply the voice sample to the pretrained model and create an output WAV file."
      ]
    },
    {
      "cell_type": "markdown",
      "metadata": {
        "id": "9qDAK3IVI5MA",
        "colab_type": "text"
      },
      "source": [
        "**Step 1**. Install required audio libraries needed to output the WAV file of the cloned voice saying the supplied text"
      ]
    },
    {
      "cell_type": "code",
      "metadata": {
        "id": "OI3r7d2oI91O",
        "colab_type": "code",
        "colab": {
          "base_uri": "https://localhost:8080/",
          "height": 136
        },
        "outputId": "75c0fe20-2f38-4583-c240-de4d61e1ed51"
      },
      "source": [
        "!apt-get install libportaudio2\n",
        "print(\"\\nINSTALL COMPLETE: libportaudio2\")"
      ],
      "execution_count": 6,
      "outputs": [
        {
          "output_type": "stream",
          "text": [
            "Reading package lists... Done\n",
            "Building dependency tree       \n",
            "Reading state information... Done\n",
            "libportaudio2 is already the newest version (19.6.0-1).\n",
            "0 upgraded, 0 newly installed, 0 to remove and 25 not upgraded.\n",
            "\n",
            "INSTALL COMPLETE: libportaudio2\n"
          ],
          "name": "stdout"
        }
      ]
    },
    {
      "cell_type": "markdown",
      "metadata": {
        "id": "BqEcTs-DJG4u",
        "colab_type": "text"
      },
      "source": [
        "**Step 2**. Clone my Github repository."
      ]
    },
    {
      "cell_type": "code",
      "metadata": {
        "id": "FcHmjFkRJW1H",
        "colab_type": "code",
        "colab": {
          "base_uri": "https://localhost:8080/",
          "height": 68
        },
        "outputId": "8c9ec1f5-92fe-4bcf-ac8c-06a8016eda6f"
      },
      "source": [
        "!git clone https://github.com/Talish-wiz/Voice-Cloning \n",
        "  \n",
        "print(\"\\nDOWNLOAD COMPLETE: Voice-Cloning repo\")"
      ],
      "execution_count": 7,
      "outputs": [
        {
          "output_type": "stream",
          "text": [
            "fatal: destination path 'Voice-Cloning' already exists and is not an empty directory.\n",
            "\n",
            "DOWNLOAD COMPLETE: Voice-Cloning repo\n"
          ],
          "name": "stdout"
        }
      ]
    },
    {
      "cell_type": "markdown",
      "metadata": {
        "id": "1IYpzXo_KcjT",
        "colab_type": "text"
      },
      "source": [
        "**Step 3**. Go into the downloaded repository folder to install the requirements"
      ]
    },
    {
      "cell_type": "code",
      "metadata": {
        "id": "AIKTS9jUKokS",
        "colab_type": "code",
        "colab": {
          "base_uri": "https://localhost:8080/",
          "height": 68
        },
        "outputId": "5983cb5f-b21d-4dd1-80af-cef103f9f932"
      },
      "source": [
        "!pip install -r requirements.txt\n",
        "\n",
        "print(\"\\nREQUIREMENTS INSTALLED\")"
      ],
      "execution_count": 8,
      "outputs": [
        {
          "output_type": "stream",
          "text": [
            "\u001b[31mERROR: Could not open requirements file: [Errno 2] No such file or directory: 'requirements.txt'\u001b[0m\n",
            "\n",
            "REQUIREMENTS INSTALLED\n"
          ],
          "name": "stdout"
        }
      ]
    },
    {
      "cell_type": "markdown",
      "metadata": {
        "id": "hHM2IIeYLPlU",
        "colab_type": "text"
      },
      "source": [
        "\n",
        "**Step 5**. Download and unzip the pretrained voice model that used audiobooks (text and voice) as the source. This source lacks tone, but is useful as a pretrained model. You can train your model. I am using my saved copy of this file in case there are breaking changes on the original project. \n",
        "\n",
        "\n",
        "Download and unzip the generic pretrained model by running the code block below."
      ]
    },
    {
      "cell_type": "code",
      "metadata": {
        "id": "9gvx8uSdLtva",
        "colab_type": "code",
        "colab": {
          "base_uri": "https://localhost:8080/",
          "height": 190
        },
        "outputId": "c33cd40d-014d-4264-98bc-3806ce758eff"
      },
      "source": [
        "!gdown https://drive.google.com/open?id=1t583lSNdFbLw2Jil7QcTkeVXTjlRSvBF\n",
        "print(\"UNZIPPING: pretrained.zip\")\n",
        "\n",
        "!unzip pretrained.zip\n",
        "\n",
        "print(\"UNZIP COMPLETE\")"
      ],
      "execution_count": 5,
      "outputs": [
        {
          "output_type": "stream",
          "text": [
            "/usr/local/lib/python2.7/dist-packages/gdown/parse_url.py:31: UserWarning: You specified Google Drive Link but it is not the correct link to download the file. Maybe you should try: https://drive.google.com/uc?id=1t583lSNdFbLw2Jil7QcTkeVXTjlRSvBF\n",
            "  .format(url='https://drive.google.com/uc?id={}'.format(file_id))\n",
            "Downloading...\n",
            "From: https://drive.google.com/open?id=1t583lSNdFbLw2Jil7QcTkeVXTjlRSvBF\n",
            "To: /content/open?id=1t583lSNdFbLw2Jil7QcTkeVXTjlRSvBF\n",
            "\r0.00B [00:00, ?B/s]\r69.8kB [00:00, 1.10MB/s]\n",
            "UNZIPPING: pretrained.zip\n",
            "unzip:  cannot find or open pretrained.zip, pretrained.zip.zip or pretrained.zip.ZIP.\n",
            "UNZIP COMPLETE\n"
          ],
          "name": "stdout"
        }
      ]
    },
    {
      "cell_type": "markdown",
      "metadata": {
        "id": "2-2PpMs8MTPQ",
        "colab_type": "text"
      },
      "source": [
        "**Step 6**. Upload the voice to be cloned in .wav format rename it to input.wav. [Upload: use upload button at left handside beside refresh].\n",
        "Move your input.wav to Voice-Cloning folder\n",
        "\n",
        "I have provided voice of Kate Winslet for demo so just delete it and upload your voice file if you want to clone it.\n",
        "\n",
        "NOTE : If you are not uploading anything and want to clone Kate Winslet voice as demo then skip this step\n"
      ]
    },
    {
      "cell_type": "code",
      "metadata": {
        "id": "POONooyMOXpv",
        "colab_type": "code",
        "colab": {}
      },
      "source": [
        "!mv /content/input.wav /content/Real-Time-Voice-Cloning"
      ],
      "execution_count": 0,
      "outputs": []
    },
    {
      "cell_type": "markdown",
      "metadata": {
        "id": "ckcjbQYCObLQ",
        "colab_type": "text"
      },
      "source": [
        "**Step 6**. Since this script uses tensorflow 1.14.0 , Install it."
      ]
    },
    {
      "cell_type": "code",
      "metadata": {
        "id": "LEFmvxI0OxXR",
        "colab_type": "code",
        "colab": {}
      },
      "source": [
        "!pip install tensorflow==1.14.0"
      ],
      "execution_count": 0,
      "outputs": []
    },
    {
      "cell_type": "markdown",
      "metadata": {
        "id": "TaMFDTf9O6sn",
        "colab_type": "text"
      },
      "source": [
        "**Step 7**. Executing the python command below will create a voice signature from the previously recorded audio sample (using the downloaded translate.py) and converts the supplied text (textin parameter) to generate a wave file named output.wav  \n",
        "\n",
        "The output will be located here (in the filebrowser of this colab notebook): \n",
        "/content/Real-Time-Voice-Cloning/output.wav\n",
        "\n",
        "you will be able to play that output file in the browser once it has been generated.\n",
        "\n"
      ]
    },
    {
      "cell_type": "code",
      "metadata": {
        "id": "AxOEybhkPd2W",
        "colab_type": "code",
        "colab": {}
      },
      "source": [
        "# THIS STEP  WILL PRODUCE A LOT OF TEXT OUTPUT (warnings), it will show a WAV file when complete\n",
        "# the textin parameter used below should be a text sentence about 20 words long, less leaves weird spaces in output file\n",
        "\n",
        "!python translate.py \\\n",
        "  --textin=\"This is a project that started as a complex thesis for pattern voice matching using Googles Tensorflow\"\n",
        "  #--textin=\"This is a project that started as a complex thesis for pattern voice matching using Googles Tensorflow\"\n",
        "  #--textin=\"Yes, no, maybe, do not care, i have got to go, ok\"\n",
        "  #--voicein=\"input.mp3\" #the translate.py file has a default value of: \"input.wav\", only change it if needed\n",
        "\n",
        "print(\"TRANSLATION COMPLETE\")\n",
        "  \n"
      ],
      "execution_count": 0,
      "outputs": []
    },
    {
      "cell_type": "markdown",
      "metadata": {
        "id": "WVsuUXgvPtL8",
        "colab_type": "text"
      },
      "source": [
        "**Optional**. If you want voice instead of text input then use Speech Recognition.\n",
        "But since Google colab doesnot have any default audio device so this code wont work here but it will when you run on your localhost\n"
      ]
    },
    {
      "cell_type": "code",
      "metadata": {
        "id": "DLV-kdljRYQ8",
        "colab_type": "code",
        "colab": {}
      },
      "source": [
        "#Install Dependecies\n",
        "!sudo pip install SpeechRecognition \n",
        "!sudo apt-get install python-pyaudio python3-pyaudio"
      ],
      "execution_count": 0,
      "outputs": []
    },
    {
      "cell_type": "code",
      "metadata": {
        "id": "RJ1HIzrSRhyA",
        "colab_type": "code",
        "colab": {}
      },
      "source": [
        "#Code for speech to text\n",
        "import speech_recognition as sr\n",
        "r = sr.Recognizer()\n",
        "harvard = sr.AudioFile('input.mp3')\n",
        "with harvard as source:\n",
        "    audio = r.record(source)\n",
        "    print(r.recognize_google(audio))"
      ],
      "execution_count": 0,
      "outputs": []
    },
    {
      "cell_type": "markdown",
      "metadata": {
        "id": "YiNSaV6xSB_7",
        "colab_type": "text"
      },
      "source": [
        "**Step 8**. Compare to original voice sample recording "
      ]
    },
    {
      "cell_type": "code",
      "metadata": {
        "id": "9FnYCyquSIRW",
        "colab_type": "code",
        "colab": {}
      },
      "source": [
        "print(\"Sample voice to be cloned\")\n",
        "ipd.Audio('input.wav') # load a local WAV file"
      ],
      "execution_count": 0,
      "outputs": []
    },
    {
      "cell_type": "markdown",
      "metadata": {
        "id": "J_pjwTSYRy9X",
        "colab_type": "text"
      },
      "source": [
        "**Step 9**. Play output file which should be the incoming_text modeled with the voice signature file"
      ]
    },
    {
      "cell_type": "code",
      "metadata": {
        "id": "KvaMEPPNR5zv",
        "colab_type": "code",
        "colab": {}
      },
      "source": [
        "import IPython.display as ipd\n",
        "print(\"Cloned voice saying input text\")\n",
        "ipd.Audio('output.wav') # load a local WAV file"
      ],
      "execution_count": 0,
      "outputs": []
    }
  ]
}